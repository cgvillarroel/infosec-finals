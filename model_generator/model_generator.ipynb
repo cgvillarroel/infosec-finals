{
 "cells": [
  {
   "cell_type": "code",
   "execution_count": 1,
   "id": "fbe0b531-0d73-48e1-9a96-8da131f7cf34",
   "metadata": {},
   "outputs": [],
   "source": [
    "# set up jupyter\n",
    "from IPython.display import display, Markdown # pretty display\n",
    "from IPython.core.interactiveshell import InteractiveShell # multi output\n",
    "\n",
    "InteractiveShell.ast_node_interactivity = \"all\" # type: ignore"
   ]
  },
  {
   "cell_type": "code",
   "execution_count": null,
   "id": "c9ab7ae1",
   "metadata": {},
   "outputs": [],
   "source": [
    "# import packages\n",
    "import pandas as pd\n",
    "from imblearn.over_sampling import SMOTE\n",
    "from joblib import dump\n",
    "from sklearn.ensemble import RandomForestClassifier, GradientBoostingClassifier\n",
    "from sklearn.model_selection import train_test_split\n",
    "from sklearn.tree import DecisionTreeClassifier\n",
    "from utils.plotter import Plotter # type: ignore"
   ]
  },
  {
   "cell_type": "code",
   "execution_count": null,
   "id": "5eb0c82b",
   "metadata": {},
   "outputs": [],
   "source": [
    "# get preprocessed data\n",
    "data = pd.read_csv(\"./dataset/preprocessed.csv\") # type: ignore\n",
    "Markdown(\"# Preprocessed data\")\n",
    "display(data)"
   ]
  },
  {
   "cell_type": "code",
   "execution_count": null,
   "id": "b85a3112",
   "metadata": {},
   "outputs": [],
   "source": [
    "# prep data\n",
    "labels = data[\"Label\"]\n",
    "features = data.drop(\"Label\", axis=1)\n",
    "\n",
    "# splits\n",
    "x_train, x_test, y_train, y_test = train_test_split(features, labels, test_size=0.25, random_state=5)"
   ]
  },
  {
   "cell_type": "code",
   "execution_count": null,
   "id": "4667291d",
   "metadata": {},
   "outputs": [],
   "source": [
    "# create plotter for test results\n",
    "plotter = Plotter(y_test)"
   ]
  },
  {
   "cell_type": "code",
   "execution_count": null,
   "id": "084fcbf0",
   "metadata": {},
   "outputs": [],
   "source": [
    "# dataset is very imbalanced, oversample to address this\n",
    "oversampler = SMOTE(random_state=0)\n",
    "smote_x, smote_y = oversampler.fit_resample(x_train, y_train) # type: ignore"
   ]
  },
  {
   "cell_type": "code",
   "execution_count": null,
   "id": "13d33f40",
   "metadata": {},
   "outputs": [],
   "source": [
    "# train and save decision tree\n",
    "dtc = DecisionTreeClassifier().fit(smote_x.values, smote_y.values)\n",
    "dtc_path = \"../models/decision_tree.joblib\"\n",
    "_ = dump(dtc, dtc_path)\n",
    "Markdown(f\"Saved decision tree model to `{dtc_path}`\")"
   ]
  },
  {
   "cell_type": "code",
   "execution_count": null,
   "id": "9ecc3059",
   "metadata": {
    "title": "test decision tree"
   },
   "outputs": [],
   "source": [
    "dtc_pred = dtc.predict(x_test.values)\n",
    "Markdown(\"# Results: Decision Tree\")\n",
    "plotter(dtc_pred)"
   ]
  },
  {
   "cell_type": "code",
   "execution_count": null,
   "id": "ceca74ee",
   "metadata": {},
   "outputs": [],
   "source": [
    "# train and save random forest\n",
    "rfc = RandomForestClassifier().fit(smote_x.values, smote_y.values)\n",
    "rfc_path = \"../models/random_forest.joblib\"\n",
    "_ = dump(rfc, rfc_path)\n",
    "Markdown(f\"Saved random forest model to `{rfc_path}`\")"
   ]
  },
  {
   "cell_type": "code",
   "execution_count": null,
   "id": "e5851499",
   "metadata": {},
   "outputs": [],
   "source": [
    "# test random forest\n",
    "rfc_pred = rfc.predict(x_test.values)\n",
    "Markdown(\"# Results: Random Forest\")\n",
    "plotter(rfc_pred)"
   ]
  },
  {
   "cell_type": "code",
   "execution_count": null,
   "id": "c1ddd707",
   "metadata": {},
   "outputs": [],
   "source": [
    "# train and save gradient boosting\n",
    "gbc = GradientBoostingClassifier().fit(smote_x.values, smote_y.values)\n",
    "gbc_path = \"../models/gradient_boosting.joblib\"\n",
    "_ = dump(gbc, gbc_path)\n",
    "Markdown(f\"Saved gradient boosting model to `{rfc_path}`\")"
   ]
  },
  {
   "cell_type": "code",
   "execution_count": null,
   "id": "d71c496b",
   "metadata": {},
   "outputs": [],
   "source": [
    "# test gradient boosting\n",
    "gbc_pred = gbc.predict(x_test.values)\n",
    "Markdown(\"# Results: Gradient Boosting\")\n",
    "plotter(gbc_pred)"
   ]
  },
  {
   "cell_type": "code",
   "execution_count": null,
   "id": "ec5bd52e",
   "metadata": {},
   "outputs": [],
   "source": []
  }
 ],
 "metadata": {
  "jupytext": {
   "cell_metadata_filter": "-all",
   "main_language": "python",
   "notebook_metadata_filter": "-all"
  },
  "kernelspec": {
   "display_name": "venv",
   "language": "python",
   "name": "venv"
  },
  "language_info": {
   "codemirror_mode": {
    "name": "ipython",
    "version": 3
   },
   "file_extension": ".py",
   "mimetype": "text/x-python",
   "name": "python",
   "nbconvert_exporter": "python",
   "pygments_lexer": "ipython3",
   "version": "3.12.0"
  }
 },
 "nbformat": 4,
 "nbformat_minor": 5
}
