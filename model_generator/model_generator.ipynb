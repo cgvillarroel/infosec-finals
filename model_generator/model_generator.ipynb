{
 "cells": [
  {
   "cell_type": "code",
   "execution_count": 1,
   "id": "fbe0b531-0d73-48e1-9a96-8da131f7cf34",
   "metadata": {},
   "outputs": [],
   "source": [
    "# set up jupyter\n",
    "from IPython.display import display, Markdown # pretty display\n",
    "from IPython.core.interactiveshell import InteractiveShell # multi output\n",
    "\n",
    "InteractiveShell.ast_node_interactivity = \"all\" # type: ignore"
   ]
  },
  {
   "cell_type": "code",
   "execution_count": 2,
   "id": "c9ab7ae1",
   "metadata": {},
   "outputs": [],
   "source": [
    "# import packages\n",
    "import pandas as pd\n",
    "from imblearn.over_sampling import SMOTE\n",
    "from joblib import dump\n",
    "from sklearn.ensemble import RandomForestClassifier, GradientBoostingClassifier\n",
    "from sklearn.model_selection import train_test_split\n",
    "from sklearn.tree import DecisionTreeClassifier\n",
    "from utils.plotter import Plotter # type: ignore"
   ]
  },
  {
   "cell_type": "code",
   "execution_count": 3,
   "id": "5eb0c82b",
   "metadata": {},
   "outputs": [
    {
     "data": {
      "text/markdown": [
       "# Preprocessed data"
      ],
      "text/plain": [
       "<IPython.core.display.Markdown object>"
      ]
     },
     "execution_count": 3,
     "metadata": {},
     "output_type": "execute_result"
    },
    {
     "data": {
      "text/html": [
       "<div>\n",
       "<style scoped>\n",
       "    .dataframe tbody tr th:only-of-type {\n",
       "        vertical-align: middle;\n",
       "    }\n",
       "\n",
       "    .dataframe tbody tr th {\n",
       "        vertical-align: top;\n",
       "    }\n",
       "\n",
       "    .dataframe thead th {\n",
       "        text-align: right;\n",
       "    }\n",
       "</style>\n",
       "<table border=\"1\" class=\"dataframe\">\n",
       "  <thead>\n",
       "    <tr style=\"text-align: right;\">\n",
       "      <th></th>\n",
       "      <th>Avg Packet Size</th>\n",
       "      <th>Avg Bwd Segment Size</th>\n",
       "      <th>Bwd Packet Length Max</th>\n",
       "      <th>Bwd Packet Length Mean</th>\n",
       "      <th>Bwd Packet Length Min</th>\n",
       "      <th>Bwd Packet Length Std</th>\n",
       "      <th>Down/Up Ratio</th>\n",
       "      <th>Packet Length Max</th>\n",
       "      <th>Packet Length Std</th>\n",
       "      <th>Packet Length Variance</th>\n",
       "      <th>Class</th>\n",
       "    </tr>\n",
       "  </thead>\n",
       "  <tbody>\n",
       "    <tr>\n",
       "      <th>0</th>\n",
       "      <td>401.500000</td>\n",
       "      <td>0.000000</td>\n",
       "      <td>0.0</td>\n",
       "      <td>0.000000</td>\n",
       "      <td>0.0</td>\n",
       "      <td>0.000000</td>\n",
       "      <td>0.0</td>\n",
       "      <td>393.0</td>\n",
       "      <td>33.617596</td>\n",
       "      <td>1130.1428</td>\n",
       "      <td>1</td>\n",
       "    </tr>\n",
       "    <tr>\n",
       "      <th>1</th>\n",
       "      <td>601.500000</td>\n",
       "      <td>0.000000</td>\n",
       "      <td>0.0</td>\n",
       "      <td>0.000000</td>\n",
       "      <td>0.0</td>\n",
       "      <td>0.000000</td>\n",
       "      <td>0.0</td>\n",
       "      <td>401.0</td>\n",
       "      <td>0.000000</td>\n",
       "      <td>0.0000</td>\n",
       "      <td>1</td>\n",
       "    </tr>\n",
       "    <tr>\n",
       "      <th>2</th>\n",
       "      <td>574.500000</td>\n",
       "      <td>0.000000</td>\n",
       "      <td>0.0</td>\n",
       "      <td>0.000000</td>\n",
       "      <td>0.0</td>\n",
       "      <td>0.000000</td>\n",
       "      <td>0.0</td>\n",
       "      <td>383.0</td>\n",
       "      <td>0.000000</td>\n",
       "      <td>0.0000</td>\n",
       "      <td>1</td>\n",
       "    </tr>\n",
       "    <tr>\n",
       "      <th>3</th>\n",
       "      <td>432.000000</td>\n",
       "      <td>0.000000</td>\n",
       "      <td>0.0</td>\n",
       "      <td>0.000000</td>\n",
       "      <td>0.0</td>\n",
       "      <td>0.000000</td>\n",
       "      <td>0.0</td>\n",
       "      <td>369.0</td>\n",
       "      <td>21.361180</td>\n",
       "      <td>456.3000</td>\n",
       "      <td>1</td>\n",
       "    </tr>\n",
       "    <tr>\n",
       "      <th>4</th>\n",
       "      <td>442.000000</td>\n",
       "      <td>0.000000</td>\n",
       "      <td>0.0</td>\n",
       "      <td>0.000000</td>\n",
       "      <td>0.0</td>\n",
       "      <td>0.000000</td>\n",
       "      <td>0.0</td>\n",
       "      <td>389.0</td>\n",
       "      <td>32.315630</td>\n",
       "      <td>1044.3000</td>\n",
       "      <td>1</td>\n",
       "    </tr>\n",
       "    <tr>\n",
       "      <th>...</th>\n",
       "      <td>...</td>\n",
       "      <td>...</td>\n",
       "      <td>...</td>\n",
       "      <td>...</td>\n",
       "      <td>...</td>\n",
       "      <td>...</td>\n",
       "      <td>...</td>\n",
       "      <td>...</td>\n",
       "      <td>...</td>\n",
       "      <td>...</td>\n",
       "      <td>...</td>\n",
       "    </tr>\n",
       "    <tr>\n",
       "      <th>431366</th>\n",
       "      <td>10.333333</td>\n",
       "      <td>31.000000</td>\n",
       "      <td>31.0</td>\n",
       "      <td>31.000000</td>\n",
       "      <td>31.0</td>\n",
       "      <td>0.000000</td>\n",
       "      <td>0.0</td>\n",
       "      <td>31.0</td>\n",
       "      <td>15.500000</td>\n",
       "      <td>240.2500</td>\n",
       "      <td>0</td>\n",
       "    </tr>\n",
       "    <tr>\n",
       "      <th>431367</th>\n",
       "      <td>31.000000</td>\n",
       "      <td>20.666666</td>\n",
       "      <td>31.0</td>\n",
       "      <td>20.666666</td>\n",
       "      <td>0.0</td>\n",
       "      <td>17.897858</td>\n",
       "      <td>3.0</td>\n",
       "      <td>31.0</td>\n",
       "      <td>13.863622</td>\n",
       "      <td>192.2000</td>\n",
       "      <td>0</td>\n",
       "    </tr>\n",
       "    <tr>\n",
       "      <th>431368</th>\n",
       "      <td>0.000000</td>\n",
       "      <td>0.000000</td>\n",
       "      <td>0.0</td>\n",
       "      <td>0.000000</td>\n",
       "      <td>0.0</td>\n",
       "      <td>0.000000</td>\n",
       "      <td>2.0</td>\n",
       "      <td>0.0</td>\n",
       "      <td>0.000000</td>\n",
       "      <td>0.0000</td>\n",
       "      <td>0</td>\n",
       "    </tr>\n",
       "    <tr>\n",
       "      <th>431369</th>\n",
       "      <td>80.750000</td>\n",
       "      <td>97.000000</td>\n",
       "      <td>97.0</td>\n",
       "      <td>97.000000</td>\n",
       "      <td>97.0</td>\n",
       "      <td>0.000000</td>\n",
       "      <td>1.0</td>\n",
       "      <td>97.0</td>\n",
       "      <td>29.577019</td>\n",
       "      <td>874.8000</td>\n",
       "      <td>0</td>\n",
       "    </tr>\n",
       "    <tr>\n",
       "      <th>431370</th>\n",
       "      <td>211.841260</td>\n",
       "      <td>225.575760</td>\n",
       "      <td>2525.0</td>\n",
       "      <td>225.575760</td>\n",
       "      <td>0.0</td>\n",
       "      <td>515.547240</td>\n",
       "      <td>1.0</td>\n",
       "      <td>2525.0</td>\n",
       "      <td>439.642000</td>\n",
       "      <td>193285.0800</td>\n",
       "      <td>0</td>\n",
       "    </tr>\n",
       "  </tbody>\n",
       "</table>\n",
       "<p>431371 rows × 11 columns</p>\n",
       "</div>"
      ],
      "text/plain": [
       "        Avg Packet Size  Avg Bwd Segment Size  Bwd Packet Length Max  \\\n",
       "0            401.500000              0.000000                    0.0   \n",
       "1            601.500000              0.000000                    0.0   \n",
       "2            574.500000              0.000000                    0.0   \n",
       "3            432.000000              0.000000                    0.0   \n",
       "4            442.000000              0.000000                    0.0   \n",
       "...                 ...                   ...                    ...   \n",
       "431366        10.333333             31.000000                   31.0   \n",
       "431367        31.000000             20.666666                   31.0   \n",
       "431368         0.000000              0.000000                    0.0   \n",
       "431369        80.750000             97.000000                   97.0   \n",
       "431370       211.841260            225.575760                 2525.0   \n",
       "\n",
       "        Bwd Packet Length Mean  Bwd Packet Length Min  Bwd Packet Length Std  \\\n",
       "0                     0.000000                    0.0               0.000000   \n",
       "1                     0.000000                    0.0               0.000000   \n",
       "2                     0.000000                    0.0               0.000000   \n",
       "3                     0.000000                    0.0               0.000000   \n",
       "4                     0.000000                    0.0               0.000000   \n",
       "...                        ...                    ...                    ...   \n",
       "431366               31.000000                   31.0               0.000000   \n",
       "431367               20.666666                    0.0              17.897858   \n",
       "431368                0.000000                    0.0               0.000000   \n",
       "431369               97.000000                   97.0               0.000000   \n",
       "431370              225.575760                    0.0             515.547240   \n",
       "\n",
       "        Down/Up Ratio  Packet Length Max  Packet Length Std  \\\n",
       "0                 0.0              393.0          33.617596   \n",
       "1                 0.0              401.0           0.000000   \n",
       "2                 0.0              383.0           0.000000   \n",
       "3                 0.0              369.0          21.361180   \n",
       "4                 0.0              389.0          32.315630   \n",
       "...               ...                ...                ...   \n",
       "431366            0.0               31.0          15.500000   \n",
       "431367            3.0               31.0          13.863622   \n",
       "431368            2.0                0.0           0.000000   \n",
       "431369            1.0               97.0          29.577019   \n",
       "431370            1.0             2525.0         439.642000   \n",
       "\n",
       "        Packet Length Variance  Class  \n",
       "0                    1130.1428      1  \n",
       "1                       0.0000      1  \n",
       "2                       0.0000      1  \n",
       "3                     456.3000      1  \n",
       "4                    1044.3000      1  \n",
       "...                        ...    ...  \n",
       "431366                240.2500      0  \n",
       "431367                192.2000      0  \n",
       "431368                  0.0000      0  \n",
       "431369                874.8000      0  \n",
       "431370             193285.0800      0  \n",
       "\n",
       "[431371 rows x 11 columns]"
      ]
     },
     "metadata": {},
     "output_type": "display_data"
    }
   ],
   "source": [
    "# get preprocessed data\n",
    "data = pd.read_csv(\"./dataset/preprocessed.csv\") # type: ignore\n",
    "Markdown(\"# Preprocessed data\")\n",
    "display(data)"
   ]
  },
  {
   "cell_type": "code",
   "execution_count": 4,
   "id": "b85a3112",
   "metadata": {},
   "outputs": [],
   "source": [
    "# prep data\n",
    "labels = data[\"Class\"]\n",
    "features = data.drop(\"Class\", axis=1)\n",
    "\n",
    "# splits\n",
    "x_train, x_test, y_train, y_test = train_test_split(features, labels, test_size=0.25, random_state=5)"
   ]
  },
  {
   "cell_type": "code",
   "execution_count": 5,
   "id": "4667291d",
   "metadata": {},
   "outputs": [],
   "source": [
    "# create plotter for test results\n",
    "plotter = Plotter(y_test)"
   ]
  },
  {
   "cell_type": "code",
   "execution_count": 6,
   "id": "084fcbf0",
   "metadata": {},
   "outputs": [],
   "source": [
    "# dataset is very imbalanced, oversample to address this\n",
    "oversampler = SMOTE(random_state=0)\n",
    "smote_x, smote_y = oversampler.fit_resample(x_train, y_train) # type: ignore"
   ]
  },
  {
   "cell_type": "code",
   "execution_count": 7,
   "id": "13d33f40",
   "metadata": {},
   "outputs": [
    {
     "data": {
      "text/markdown": [
       "Saved decision tree model to `../models/decision_tree.joblib`"
      ],
      "text/plain": [
       "<IPython.core.display.Markdown object>"
      ]
     },
     "execution_count": 7,
     "metadata": {},
     "output_type": "execute_result"
    }
   ],
   "source": [
    "# train and save decision tree\n",
    "dtc = DecisionTreeClassifier().fit(smote_x.values, smote_y.values)\n",
    "dtc_path = \"../models/decision_tree.joblib\"\n",
    "_ = dump(dtc, dtc_path)\n",
    "Markdown(f\"Saved decision tree model to `{dtc_path}`\")"
   ]
  },
  {
   "cell_type": "code",
   "execution_count": 8,
   "id": "9ecc3059",
   "metadata": {
    "title": "test decision tree"
   },
   "outputs": [
    {
     "data": {
      "text/markdown": [
       "# Results: Decision Tree"
      ],
      "text/plain": [
       "<IPython.core.display.Markdown object>"
      ]
     },
     "execution_count": 8,
     "metadata": {},
     "output_type": "execute_result"
    },
    {
     "name": "stdout",
     "output_type": "stream",
     "text": [
      "[[24386    89]\n",
      " [ 2102 81266]]\n",
      "Accuracy:  0.9796834286880002\n",
      "Precision:  0.9989060291315838\n",
      "Recall:  0.9747864888206506\n"
     ]
    },
    {
     "data": {
      "image/png": "[encoded data removed]",
      "text/plain": [
       "<Figure size 640x480 with 2 Axes>"
      ]
     },
     "metadata": {},
     "output_type": "display_data"
    }
   ],
   "source": [
    "dtc_pred = dtc.predict(x_test.values)\n",
    "Markdown(\"# Results: Decision Tree\")\n",
    "plotter(dtc_pred)"
   ]
  },
  {
   "cell_type": "code",
   "execution_count": 9,
   "id": "ceca74ee",
   "metadata": {},
   "outputs": [
    {
     "data": {
      "text/markdown": [
       "Saved random forest model to `../models/random_forest.joblib`"
      ],
      "text/plain": [
       "<IPython.core.display.Markdown object>"
      ]
     },
     "execution_count": 9,
     "metadata": {},
     "output_type": "execute_result"
    }
   ],
   "source": [
    "# train and save random forest\n",
    "rfc = RandomForestClassifier().fit(smote_x.values, smote_y.values)\n",
    "rfc_path = \"../models/random_forest.joblib\"\n",
    "_ = dump(rfc, rfc_path)\n",
    "Markdown(f\"Saved random forest model to `{rfc_path}`\")"
   ]
  },
  {
   "cell_type": "code",
   "execution_count": 10,
   "id": "e5851499",
   "metadata": {},
   "outputs": [
    {
     "data": {
      "text/markdown": [
       "# Results: Random Forest"
      ],
      "text/plain": [
       "<IPython.core.display.Markdown object>"
      ]
     },
     "execution_count": 10,
     "metadata": {},
     "output_type": "execute_result"
    },
    {
     "name": "stdout",
     "output_type": "stream",
     "text": [
      "[[24392    83]\n",
      " [ 2102 81266]]\n",
      "Accuracy:  0.9797390651224466\n",
      "Precision:  0.9989797047290071\n",
      "Recall:  0.9747864888206506\n"
     ]
    },
    {
     "data": {
      "image/png": "[encoded data removed]",
      "text/plain": [
       "<Figure size 640x480 with 2 Axes>"
      ]
     },
     "metadata": {},
     "output_type": "display_data"
    }
   ],
   "source": [
    "# test random forest\n",
    "rfc_pred = rfc.predict(x_test.values)\n",
    "Markdown(\"# Results: Random Forest\")\n",
    "plotter(rfc_pred)"
   ]
  },
  {
   "cell_type": "code",
   "execution_count": 11,
   "id": "c1ddd707",
   "metadata": {},
   "outputs": [
    {
     "data": {
      "text/markdown": [
       "Saved gradient boosting model to `../models/random_forest.joblib`"
      ],
      "text/plain": [
       "<IPython.core.display.Markdown object>"
      ]
     },
     "execution_count": 11,
     "metadata": {},
     "output_type": "execute_result"
    }
   ],
   "source": [
    "# train and save gradient boosting\n",
    "gbc = GradientBoostingClassifier().fit(smote_x.values, smote_y.values)\n",
    "gbc_path = \"../models/gradient_boosting.joblib\"\n",
    "_ = dump(gbc, gbc_path)\n",
    "Markdown(f\"Saved gradient boosting model to `{rfc_path}`\")"
   ]
  },
  {
   "cell_type": "code",
   "execution_count": 12,
   "id": "d71c496b",
   "metadata": {},
   "outputs": [
    {
     "data": {
      "text/markdown": [
       "# Results: Gradient Boosting"
      ],
      "text/plain": [
       "<IPython.core.display.Markdown object>"
      ]
     },
     "execution_count": 12,
     "metadata": {},
     "output_type": "execute_result"
    },
    {
     "name": "stdout",
     "output_type": "stream",
     "text": [
      "[[24378    97]\n",
      " [ 2253 81115]]\n",
      "Accuracy:  0.9782090631751713\n",
      "Precision:  0.9988055952322317\n",
      "Recall:  0.9729752422992035\n"
     ]
    },
    {
     "data": {
      "image/png": "[encoded data removed]",
      "text/plain": [
       "<Figure size 640x480 with 2 Axes>"
      ]
     },
     "metadata": {},
     "output_type": "display_data"
    }
   ],
   "source": [
    "# test gradient boosting\n",
    "gbc_pred = gbc.predict(x_test.values)\n",
    "Markdown(\"# Results: Gradient Boosting\")\n",
    "plotter(gbc_pred)"
   ]
  },
  {
   "cell_type": "code",
   "execution_count": null,
   "id": "ec5bd52e",
   "metadata": {},
   "outputs": [],
   "source": []
  }
 ],
 "metadata": {
  "jupytext": {
   "cell_metadata_filter": "-all",
   "main_language": "python",
   "notebook_metadata_filter": "-all"
  },
  "kernelspec": {
   "display_name": "venv",
   "language": "python",
   "name": "venv"
  },
  "language_info": {
   "codemirror_mode": {
    "name": "ipython",
    "version": 3
   },
   "file_extension": ".py",
   "mimetype": "text/x-python",
   "name": "python",
   "nbconvert_exporter": "python",
   "pygments_lexer": "ipython3",
   "version": "3.12.0"
  }
 },
 "nbformat": 4,
 "nbformat_minor": 5
}
