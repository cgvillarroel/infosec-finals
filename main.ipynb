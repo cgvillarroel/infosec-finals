{
 "cells": [
  {
   "cell_type": "code",
   "execution_count": 1,
   "id": "fbe0b531-0d73-48e1-9a96-8da131f7cf34",
   "metadata": {},
   "outputs": [],
   "source": [
    "# set up jupyter\n",
    "from IPython.display import display, Markdown # pretty display\n",
    "from IPython.core.interactiveshell import InteractiveShell # multi output\n",
    "\n",
    "InteractiveShell.ast_node_interactivity = 'all' # type: ignore"
   ]
  },
  {
   "cell_type": "code",
   "execution_count": 2,
   "id": "c9ab7ae1",
   "metadata": {},
   "outputs": [],
   "source": [
    "# import packages\n",
    "import pandas as pd\n",
    "from imblearn.over_sampling import SMOTE\n",
    "from sklearn.ensemble import RandomForestClassifier, GradientBoostingClassifier\n",
    "from sklearn.model_selection import train_test_split\n",
    "from sklearn.tree import DecisionTreeClassifier\n",
    "from utils.plotter import Plotter # type: ignore"
   ]
  },
  {
   "cell_type": "code",
   "execution_count": 3,
   "id": "5eb0c82b",
   "metadata": {},
   "outputs": [
    {
     "data": {
      "text/markdown": [
       "# Preprocessed data"
      ],
      "text/plain": [
       "<IPython.core.display.Markdown object>"
      ]
     },
     "execution_count": 3,
     "metadata": {},
     "output_type": "execute_result"
    },
    {
     "data": {
      "text/html": [
       "<div>\n",
       "<style scoped>\n",
       "    .dataframe tbody tr th:only-of-type {\n",
       "        vertical-align: middle;\n",
       "    }\n",
       "\n",
       "    .dataframe tbody tr th {\n",
       "        vertical-align: top;\n",
       "    }\n",
       "\n",
       "    .dataframe thead th {\n",
       "        text-align: right;\n",
       "    }\n",
       "</style>\n",
       "<table border=\"1\" class=\"dataframe\">\n",
       "  <thead>\n",
       "    <tr style=\"text-align: right;\">\n",
       "      <th></th>\n",
       "      <th>Avg Bwd Segment Size</th>\n",
       "      <th>Average Packet Size</th>\n",
       "      <th>Down/Up Ratio</th>\n",
       "      <th>Packet Length Variance</th>\n",
       "      <th>Packet Length Std</th>\n",
       "      <th>Max Packet Length</th>\n",
       "      <th>Bwd Packet Length Std</th>\n",
       "      <th>Bwd Packet Length Mean</th>\n",
       "      <th>Bwd Packet Length Min</th>\n",
       "      <th>Bwd Packet Length Max</th>\n",
       "      <th>Source Port</th>\n",
       "      <th>Label</th>\n",
       "    </tr>\n",
       "  </thead>\n",
       "  <tbody>\n",
       "    <tr>\n",
       "      <th>0</th>\n",
       "      <td>0.000000</td>\n",
       "      <td>0.00356</td>\n",
       "      <td>0.000000</td>\n",
       "      <td>0.0</td>\n",
       "      <td>0.0</td>\n",
       "      <td>0.000514</td>\n",
       "      <td>0.0</td>\n",
       "      <td>0.000000</td>\n",
       "      <td>0.00000</td>\n",
       "      <td>0.000000</td>\n",
       "      <td>0.006760</td>\n",
       "      <td>0.0</td>\n",
       "    </tr>\n",
       "    <tr>\n",
       "      <th>1</th>\n",
       "      <td>0.001034</td>\n",
       "      <td>0.00356</td>\n",
       "      <td>0.142857</td>\n",
       "      <td>0.0</td>\n",
       "      <td>0.0</td>\n",
       "      <td>0.000514</td>\n",
       "      <td>0.0</td>\n",
       "      <td>0.001034</td>\n",
       "      <td>0.00411</td>\n",
       "      <td>0.000514</td>\n",
       "      <td>0.001221</td>\n",
       "      <td>0.0</td>\n",
       "    </tr>\n",
       "    <tr>\n",
       "      <th>2</th>\n",
       "      <td>0.001034</td>\n",
       "      <td>0.00356</td>\n",
       "      <td>0.142857</td>\n",
       "      <td>0.0</td>\n",
       "      <td>0.0</td>\n",
       "      <td>0.000514</td>\n",
       "      <td>0.0</td>\n",
       "      <td>0.001034</td>\n",
       "      <td>0.00411</td>\n",
       "      <td>0.000514</td>\n",
       "      <td>0.001221</td>\n",
       "      <td>0.0</td>\n",
       "    </tr>\n",
       "    <tr>\n",
       "      <th>3</th>\n",
       "      <td>0.001034</td>\n",
       "      <td>0.00356</td>\n",
       "      <td>0.142857</td>\n",
       "      <td>0.0</td>\n",
       "      <td>0.0</td>\n",
       "      <td>0.000514</td>\n",
       "      <td>0.0</td>\n",
       "      <td>0.001034</td>\n",
       "      <td>0.00411</td>\n",
       "      <td>0.000514</td>\n",
       "      <td>0.006760</td>\n",
       "      <td>0.0</td>\n",
       "    </tr>\n",
       "    <tr>\n",
       "      <th>4</th>\n",
       "      <td>0.000000</td>\n",
       "      <td>0.00356</td>\n",
       "      <td>0.000000</td>\n",
       "      <td>0.0</td>\n",
       "      <td>0.0</td>\n",
       "      <td>0.000514</td>\n",
       "      <td>0.0</td>\n",
       "      <td>0.000000</td>\n",
       "      <td>0.00000</td>\n",
       "      <td>0.000000</td>\n",
       "      <td>0.006760</td>\n",
       "      <td>0.0</td>\n",
       "    </tr>\n",
       "    <tr>\n",
       "      <th>...</th>\n",
       "      <td>...</td>\n",
       "      <td>...</td>\n",
       "      <td>...</td>\n",
       "      <td>...</td>\n",
       "      <td>...</td>\n",
       "      <td>...</td>\n",
       "      <td>...</td>\n",
       "      <td>...</td>\n",
       "      <td>...</td>\n",
       "      <td>...</td>\n",
       "      <td>...</td>\n",
       "      <td>...</td>\n",
       "    </tr>\n",
       "    <tr>\n",
       "      <th>225740</th>\n",
       "      <td>0.001034</td>\n",
       "      <td>0.00356</td>\n",
       "      <td>0.142857</td>\n",
       "      <td>0.0</td>\n",
       "      <td>0.0</td>\n",
       "      <td>0.000514</td>\n",
       "      <td>0.0</td>\n",
       "      <td>0.001034</td>\n",
       "      <td>0.00411</td>\n",
       "      <td>0.000514</td>\n",
       "      <td>0.001221</td>\n",
       "      <td>0.0</td>\n",
       "    </tr>\n",
       "    <tr>\n",
       "      <th>225741</th>\n",
       "      <td>0.001034</td>\n",
       "      <td>0.00356</td>\n",
       "      <td>0.142857</td>\n",
       "      <td>0.0</td>\n",
       "      <td>0.0</td>\n",
       "      <td>0.000514</td>\n",
       "      <td>0.0</td>\n",
       "      <td>0.001034</td>\n",
       "      <td>0.00411</td>\n",
       "      <td>0.000514</td>\n",
       "      <td>0.001221</td>\n",
       "      <td>0.0</td>\n",
       "    </tr>\n",
       "    <tr>\n",
       "      <th>225742</th>\n",
       "      <td>0.001034</td>\n",
       "      <td>0.00356</td>\n",
       "      <td>0.142857</td>\n",
       "      <td>0.0</td>\n",
       "      <td>0.0</td>\n",
       "      <td>0.000514</td>\n",
       "      <td>0.0</td>\n",
       "      <td>0.001034</td>\n",
       "      <td>0.00411</td>\n",
       "      <td>0.000514</td>\n",
       "      <td>0.001221</td>\n",
       "      <td>0.0</td>\n",
       "    </tr>\n",
       "    <tr>\n",
       "      <th>225743</th>\n",
       "      <td>0.000000</td>\n",
       "      <td>0.00356</td>\n",
       "      <td>0.000000</td>\n",
       "      <td>0.0</td>\n",
       "      <td>0.0</td>\n",
       "      <td>0.000514</td>\n",
       "      <td>0.0</td>\n",
       "      <td>0.000000</td>\n",
       "      <td>0.00000</td>\n",
       "      <td>0.000000</td>\n",
       "      <td>0.001221</td>\n",
       "      <td>0.0</td>\n",
       "    </tr>\n",
       "    <tr>\n",
       "      <th>225744</th>\n",
       "      <td>0.001034</td>\n",
       "      <td>0.00356</td>\n",
       "      <td>0.142857</td>\n",
       "      <td>0.0</td>\n",
       "      <td>0.0</td>\n",
       "      <td>0.000514</td>\n",
       "      <td>0.0</td>\n",
       "      <td>0.001034</td>\n",
       "      <td>0.00411</td>\n",
       "      <td>0.000514</td>\n",
       "      <td>0.001221</td>\n",
       "      <td>0.0</td>\n",
       "    </tr>\n",
       "  </tbody>\n",
       "</table>\n",
       "<p>225745 rows × 12 columns</p>\n",
       "</div>"
      ],
      "text/plain": [
       "        Avg Bwd Segment Size  Average Packet Size  Down/Up Ratio  \\\n",
       "0                   0.000000              0.00356       0.000000   \n",
       "1                   0.001034              0.00356       0.142857   \n",
       "2                   0.001034              0.00356       0.142857   \n",
       "3                   0.001034              0.00356       0.142857   \n",
       "4                   0.000000              0.00356       0.000000   \n",
       "...                      ...                  ...            ...   \n",
       "225740              0.001034              0.00356       0.142857   \n",
       "225741              0.001034              0.00356       0.142857   \n",
       "225742              0.001034              0.00356       0.142857   \n",
       "225743              0.000000              0.00356       0.000000   \n",
       "225744              0.001034              0.00356       0.142857   \n",
       "\n",
       "        Packet Length Variance  Packet Length Std  Max Packet Length  \\\n",
       "0                          0.0                0.0           0.000514   \n",
       "1                          0.0                0.0           0.000514   \n",
       "2                          0.0                0.0           0.000514   \n",
       "3                          0.0                0.0           0.000514   \n",
       "4                          0.0                0.0           0.000514   \n",
       "...                        ...                ...                ...   \n",
       "225740                     0.0                0.0           0.000514   \n",
       "225741                     0.0                0.0           0.000514   \n",
       "225742                     0.0                0.0           0.000514   \n",
       "225743                     0.0                0.0           0.000514   \n",
       "225744                     0.0                0.0           0.000514   \n",
       "\n",
       "        Bwd Packet Length Std  Bwd Packet Length Mean  Bwd Packet Length Min  \\\n",
       "0                         0.0                0.000000                0.00000   \n",
       "1                         0.0                0.001034                0.00411   \n",
       "2                         0.0                0.001034                0.00411   \n",
       "3                         0.0                0.001034                0.00411   \n",
       "4                         0.0                0.000000                0.00000   \n",
       "...                       ...                     ...                    ...   \n",
       "225740                    0.0                0.001034                0.00411   \n",
       "225741                    0.0                0.001034                0.00411   \n",
       "225742                    0.0                0.001034                0.00411   \n",
       "225743                    0.0                0.000000                0.00000   \n",
       "225744                    0.0                0.001034                0.00411   \n",
       "\n",
       "        Bwd Packet Length Max  Source Port  Label  \n",
       "0                    0.000000     0.006760    0.0  \n",
       "1                    0.000514     0.001221    0.0  \n",
       "2                    0.000514     0.001221    0.0  \n",
       "3                    0.000514     0.006760    0.0  \n",
       "4                    0.000000     0.006760    0.0  \n",
       "...                       ...          ...    ...  \n",
       "225740               0.000514     0.001221    0.0  \n",
       "225741               0.000514     0.001221    0.0  \n",
       "225742               0.000514     0.001221    0.0  \n",
       "225743               0.000000     0.001221    0.0  \n",
       "225744               0.000514     0.001221    0.0  \n",
       "\n",
       "[225745 rows x 12 columns]"
      ]
     },
     "metadata": {},
     "output_type": "display_data"
    }
   ],
   "source": [
    "# get preprocessed data\n",
    "data = pd.read_csv(\"./dataset/preprocessed.csv\") # type: ignore\n",
    "Markdown(\"# Preprocessed data\")\n",
    "display(data)"
   ]
  },
  {
   "cell_type": "code",
   "execution_count": 4,
   "id": "b85a3112",
   "metadata": {},
   "outputs": [],
   "source": [
    "# prep data\n",
    "labels = data['Label']\n",
    "features = data .drop('Label', axis = 1)\n",
    "\n",
    "# splits\n",
    "x_train, x_test, y_train, y_test = train_test_split(features, labels, test_size=0.25, random_state=0)"
   ]
  },
  {
   "cell_type": "code",
   "execution_count": 5,
   "id": "4667291d",
   "metadata": {},
   "outputs": [],
   "source": [
    "# create plotter for test results\n",
    "plotter = Plotter(y_test)"
   ]
  },
  {
   "cell_type": "code",
   "execution_count": 6,
   "id": "084fcbf0",
   "metadata": {},
   "outputs": [],
   "source": [
    "# dataset is very imbalanced, oversample to address this\n",
    "oversampler = SMOTE(random_state=0)\n",
    "smote_x, smote_y = oversampler.fit_resample(x_train, y_train) # type: ignore"
   ]
  },
  {
   "cell_type": "code",
   "execution_count": 7,
   "id": "9ecc3059",
   "metadata": {},
   "outputs": [
    {
     "data": {
      "text/markdown": [
       "# Results: Decision Tree"
      ],
      "text/plain": [
       "<IPython.core.display.Markdown object>"
      ]
     },
     "execution_count": 7,
     "metadata": {},
     "output_type": "execute_result"
    },
    {
     "name": "stdout",
     "output_type": "stream",
     "text": [
      "[[24418    26]\n",
      " [   18 31975]]\n",
      "Accuracy:  0.9992203696156776\n",
      "Precision:  0.9991875253898316\n",
      "Recall:  0.9994373769262026\n"
     ]
    },
    {
     "data": {
      "image/png": "[encoded data removed]",
      "text/plain": [
       "<Figure size 640x480 with 2 Axes>"
      ]
     },
     "metadata": {},
     "output_type": "display_data"
    }
   ],
   "source": [
    "# train and test decision tree\n",
    "dtc = DecisionTreeClassifier().fit(smote_x, smote_y)\n",
    "dtc_pred = dtc.predict(x_test)\n",
    "Markdown(\"# Results: Decision Tree\")\n",
    "plotter(dtc_pred)"
   ]
  },
  {
   "cell_type": "code",
   "execution_count": 8,
   "id": "ceca74ee",
   "metadata": {},
   "outputs": [
    {
     "data": {
      "text/markdown": [
       "# Results: Random Forest"
      ],
      "text/plain": [
       "<IPython.core.display.Markdown object>"
      ]
     },
     "execution_count": 8,
     "metadata": {},
     "output_type": "execute_result"
    },
    {
     "name": "stdout",
     "output_type": "stream",
     "text": [
      "[[24421    23]\n",
      " [   22 31971]]\n",
      "Accuracy:  0.9992026507433067\n",
      "Precision:  0.9992811152091017\n",
      "Recall:  0.9993123495764699\n"
     ]
    },
    {
     "data": {
      "image/png": "[encoded data removed]",
      "text/plain": [
       "<Figure size 640x480 with 2 Axes>"
      ]
     },
     "metadata": {},
     "output_type": "display_data"
    }
   ],
   "source": [
    "# train and test random forest\n",
    "rfc = RandomForestClassifier().fit(smote_x, smote_y)\n",
    "rfc_pred = rfc.predict(x_test)\n",
    "Markdown(\"# Results: Random Forest\")\n",
    "plotter(rfc_pred)"
   ]
  },
  {
   "cell_type": "code",
   "execution_count": 9,
   "id": "e5851499",
   "metadata": {},
   "outputs": [
    {
     "data": {
      "text/markdown": [
       "# Results: Gradient Boosting"
      ],
      "text/plain": [
       "<IPython.core.display.Markdown object>"
      ]
     },
     "execution_count": 9,
     "metadata": {},
     "output_type": "execute_result"
    },
    {
     "name": "stdout",
     "output_type": "stream",
     "text": [
      "[[24429    15]\n",
      " [   44 31949]]\n",
      "Accuracy:  0.9989545865301133\n",
      "Precision:  0.9995307220623201\n",
      "Recall:  0.9986246991529397\n"
     ]
    },
    {
     "data": {
      "image/png": "[encoded data removed]",
      "text/plain": [
       "<Figure size 640x480 with 2 Axes>"
      ]
     },
     "metadata": {},
     "output_type": "display_data"
    }
   ],
   "source": [
    "# train and test gradient boosting\n",
    "gbc = GradientBoostingClassifier().fit(smote_x, smote_y)\n",
    "gbc_pred = gbc.predict(x_test)\n",
    "Markdown(\"# Results: Gradient Boosting\")\n",
    "plotter(gbc_pred)"
   ]
  },
  {
   "cell_type": "code",
   "execution_count": null,
   "id": "ec5bd52e",
   "metadata": {},
   "outputs": [],
   "source": []
  }
 ],
 "metadata": {
  "jupytext": {
   "cell_metadata_filter": "-all",
   "main_language": "python",
   "notebook_metadata_filter": "-all"
  },
  "kernelspec": {
   "display_name": "venv",
   "language": "python",
   "name": "venv"
  },
  "language_info": {
   "codemirror_mode": {
    "name": "ipython",
    "version": 3
   },
   "file_extension": ".py",
   "mimetype": "text/x-python",
   "name": "python",
   "nbconvert_exporter": "python",
   "pygments_lexer": "ipython3",
   "version": "3.12.0"
  }
 },
 "nbformat": 4,
 "nbformat_minor": 5
}
