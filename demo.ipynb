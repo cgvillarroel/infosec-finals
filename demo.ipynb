{
 "cells": [
  {
   "cell_type": "code",
   "execution_count": 1,
   "id": "b4fe4fea",
   "metadata": {},
   "outputs": [],
   "source": [
    "# set up jupyter\n",
    "from IPython.display import display, Markdown # pretty display\n",
    "from IPython.core.interactiveshell import InteractiveShell # multi output\n",
    "\n",
    "InteractiveShell.ast_node_interactivity = 'all' # type: ignore"
   ]
  },
  {
   "cell_type": "code",
   "execution_count": 2,
   "id": "adb1e145",
   "metadata": {},
   "outputs": [],
   "source": [
    "# import libraries\n",
    "import pandas as pd\n",
    "from joblib import load\n",
    "from random import randrange\n",
    "from sklearn.tree import DecisionTreeClassifier\n",
    "from sklearn.ensemble import RandomForestClassifier, GradientBoostingClassifier\n",
    "from utils import Preprocessor"
   ]
  },
  {
   "cell_type": "code",
   "execution_count": 3,
   "id": "16ec759d-0300-4c6b-abd3-a6636dd3e072",
   "metadata": {},
   "outputs": [],
   "source": [
    "from model_generator.utils.plotter import Plotter"
   ]
  },
  {
   "cell_type": "code",
   "execution_count": 4,
   "id": "2e1787e9",
   "metadata": {},
   "outputs": [
    {
     "data": {
      "text/plain": [
       "Avg Packet Size           11270\n",
       "Avg Bwd Segment Size       8655\n",
       "Bwd Packet Length Max      1945\n",
       "Bwd Packet Length Mean     8655\n",
       "Bwd Packet Length Min       343\n",
       "Bwd Packet Length Std      9650\n",
       "Down/Up Ratio                 8\n",
       "Packet Length Max          2352\n",
       "Packet Length Std         13502\n",
       "Packet Length Variance    13502\n",
       "Class                         2\n",
       "dtype: int64"
      ]
     },
     "metadata": {},
     "output_type": "display_data"
    }
   ],
   "source": [
    "# preprocess\n",
    "data = (\n",
    "    Preprocessor()\n",
    "    .load_data(\"./dataset/demo.csv\")\n",
    "    .load_scaler(\"./utils/scaler.joblib\")\n",
    "    .process()\n",
    ")\n",
    "display(data.nunique())"
   ]
  },
  {
   "cell_type": "code",
   "execution_count": 5,
   "id": "f4b56bc2",
   "metadata": {},
   "outputs": [],
   "source": [
    "# prep demo\n",
    "target = data[\"Class\"]\n",
    "features = data.drop(\"Class\", axis=1)\n",
    "get_rand_row = lambda: randrange(0, len(data.index))"
   ]
  },
  {
   "cell_type": "code",
   "execution_count": 6,
   "id": "55a81a90-7b9b-4563-bed0-c4d71abd3bbb",
   "metadata": {},
   "outputs": [],
   "source": [
    "feature_columns = features.columns"
   ]
  },
  {
   "cell_type": "code",
   "execution_count": 11,
   "id": "ecc2f9c3-ceba-4171-8ccc-31a030592c44",
   "metadata": {},
   "outputs": [
    {
     "data": {
      "text/markdown": [
       "# Decision Tree"
      ],
      "text/plain": [
       "<IPython.core.display.Markdown object>"
      ]
     },
     "execution_count": 11,
     "metadata": {},
     "output_type": "execute_result"
    }
   ],
   "source": [
    "decision_tree: DecisionTreeClassifier = load(\"./models/decision_tree.joblib\")\n",
    "Markdown(\"# Decision Tree\")"
   ]
  },
  {
   "cell_type": "code",
   "execution_count": 12,
   "id": "bfa69696-5576-4262-b2be-7b24e6a004da",
   "metadata": {},
   "outputs": [
    {
     "name": "stdout",
     "output_type": "stream",
     "text": [
      "[[ 97185    533]\n",
      " [103895  24132]]\n",
      "Accuracy:  0.5374072515448847\n",
      "Precision:  0.9783904317859314\n",
      "Recall:  0.18849149007631202\n"
     ]
    },
    {
     "data": {
      "image/png": "[encoded data removed]",
      "text/plain": [
       "<Figure size 640x480 with 2 Axes>"
      ]
     },
     "metadata": {},
     "output_type": "display_data"
    }
   ],
   "source": [
    "pred = decision_tree.predict(features.values)\n",
    "plotter = Plotter(target)\n",
    "plotter(pred)"
   ]
  },
  {
   "cell_type": "code",
   "execution_count": 9,
   "id": "3bee3771-3830-4882-bf3b-99816de85aaa",
   "metadata": {},
   "outputs": [
    {
     "data": {
      "text/plain": [
       "[Avg Packet Size           7.0\n",
       " Avg Bwd Segment Size      6.0\n",
       " Bwd Packet Length Max     6.0\n",
       " Bwd Packet Length Mean    6.0\n",
       " Bwd Packet Length Min     6.0\n",
       " Bwd Packet Length Std     0.0\n",
       " Down/Up Ratio             5.0\n",
       " Packet Length Max         6.0\n",
       " Packet Length Std         0.0\n",
       " Packet Length Variance    0.0\n",
       " Name: 155951, dtype: float64]"
      ]
     },
     "metadata": {},
     "output_type": "display_data"
    },
    {
     "data": {
      "text/markdown": [
       "Actual: 0 Prediction: 0"
      ],
      "text/plain": [
       "<IPython.core.display.Markdown object>"
      ]
     },
     "execution_count": 9,
     "metadata": {},
     "output_type": "execute_result"
    }
   ],
   "source": [
    "# run this node to test a random sample from the demo dataset\n",
    "row = get_rand_row()\n",
    "val = [features.iloc[row]]\n",
    "display(val)\n",
    "[prediction] = decision_tree.predict(val)\n",
    "Markdown(f\"Actual: {target[row]} Prediction: {prediction}\")"
   ]
  },
  {
   "cell_type": "code",
   "execution_count": null,
   "id": "718afff4-c49e-433f-bae4-e7460b19fb57",
   "metadata": {},
   "outputs": [],
   "source": []
  }
 ],
 "metadata": {
  "jupytext": {
   "cell_metadata_filter": "-all",
   "main_language": "python",
   "notebook_metadata_filter": "-all"
  },
  "kernelspec": {
   "display_name": "venv",
   "language": "python",
   "name": "venv"
  },
  "language_info": {
   "codemirror_mode": {
    "name": "ipython",
    "version": 3
   },
   "file_extension": ".py",
   "mimetype": "text/x-python",
   "name": "python",
   "nbconvert_exporter": "python",
   "pygments_lexer": "ipython3",
   "version": "3.12.0"
  }
 },
 "nbformat": 4,
 "nbformat_minor": 5
}
