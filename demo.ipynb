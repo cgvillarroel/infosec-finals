{
 "cells": [
  {
   "cell_type": "code",
   "execution_count": 1,
   "id": "b4fe4fea",
   "metadata": {},
   "outputs": [],
   "source": [
    "# set up jupyter\n",
    "import ipywidgets as widgets\n",
    "from IPython.display import display, Markdown # pretty display\n",
    "from IPython.core.interactiveshell import InteractiveShell # multi output\n",
    "\n",
    "InteractiveShell.ast_node_interactivity = 'all' # type: ignore"
   ]
  },
  {
   "cell_type": "code",
   "execution_count": 2,
   "id": "adb1e145",
   "metadata": {},
   "outputs": [],
   "source": [
    "# import libraries\n",
    "from joblib import load\n",
    "from random import randrange\n",
    "from sklearn.tree import DecisionTreeClassifier\n",
    "from sklearn.ensemble import RandomForestClassifier, GradientBoostingClassifier\n",
    "from utils import Preprocessor"
   ]
  },
  {
   "cell_type": "code",
   "execution_count": 3,
   "id": "16ec759d-0300-4c6b-abd3-a6636dd3e072",
   "metadata": {},
   "outputs": [],
   "source": [
    "# prep data\n",
    "data = (\n",
    "    Preprocessor()\n",
    "    .load_data(\"./model_generator/dataset/raw.csv\")\n",
    "    .load_scaler(\"./utils/scaler.joblib\")\n",
    "    .process()\n",
    ")\n",
    "\n",
    "target = data[\"Label\"]\n",
    "features = data.drop(\"Label\", axis=1)\n",
    "get_rand_row = lambda: randrange(0, len(data.index))"
   ]
  },
  {
   "cell_type": "code",
   "execution_count": 4,
   "id": "2e1787e9",
   "metadata": {},
   "outputs": [
    {
     "data": {
      "application/vnd.jupyter.widget-view+json": {
       "model_id": "add18e55b77147c7a89cde71f16212e8",
       "version_major": 2,
       "version_minor": 0
      },
      "text/plain": [
       "Dropdown(description='Model: ', options=(('Decision Tree', 0), ('Random Forest', 1), ('Gradient Boosting', 2))…"
      ]
     },
     "metadata": {},
     "output_type": "display_data"
    },
    {
     "data": {
      "application/vnd.jupyter.widget-view+json": {
       "model_id": "a24c9c106f6941a097acc8bed4cfd4ce",
       "version_major": 2,
       "version_minor": 0
      },
      "text/plain": [
       "interactive(children=(Button(description='Run Interact', style=ButtonStyle()), Output()), _dom_classes=('widge…"
      ]
     },
     "metadata": {},
     "output_type": "display_data"
    },
    {
     "data": {
      "text/plain": [
       "<function __main__.run_demo()>"
      ]
     },
     "execution_count": 4,
     "metadata": {},
     "output_type": "execute_result"
    }
   ],
   "source": [
    "# model chooser\n",
    "model_names = [\n",
    "    \"Decision Tree\",\n",
    "    \"Random Forest\",\n",
    "    \"Gradient Boosting\",\n",
    "]\n",
    "models: list[DecisionTreeClassifier | RandomForestClassifier | GradientBoostingClassifier]= [\n",
    "    load(\"./models/decision_tree.joblib\"),\n",
    "    load(\"./models/random_forest.joblib\"),\n",
    "    load(\"./models/gradient_boosting.joblib\"),\n",
    "]\n",
    "model_index = 0\n",
    "\n",
    "def dropdown_handler(change):\n",
    "    if change['type'] == 'change' and change['name'] == 'value':\n",
    "        global model_index\n",
    "        model_index = change.new\n",
    "\n",
    "model_dropdown = widgets.Dropdown(\n",
    "    options=[(model_names[x], x) for x in range(len(model_names))],\n",
    "    value=0,\n",
    "    description=\"Model: \",\n",
    ")\n",
    "\n",
    "model_dropdown.observe(dropdown_handler, names=\"value\")\n",
    "display(model_dropdown)\n",
    "\n",
    "# demo\n",
    "def run_demo():\n",
    "    global get_rand_row\n",
    "    global model_index\n",
    "    row = get_rand_row()\n",
    "    val = [features.iloc[row]]\n",
    "    [prediction] = models[model_index].predict(val)\n",
    "    print(val)\n",
    "    print(model_names[model_index])\n",
    "    print(f\"Actual: {target[row]} Prediction: {prediction}\")\n",
    "\n",
    "widgets.interact_manual(run_demo)"
   ]
  },
  {
   "cell_type": "code",
   "execution_count": null,
   "id": "779fde70-a8ec-4d4a-a34e-ca0b443d376c",
   "metadata": {},
   "outputs": [],
   "source": []
  }
 ],
 "metadata": {
  "jupytext": {
   "cell_metadata_filter": "-all",
   "main_language": "python",
   "notebook_metadata_filter": "-all"
  },
  "kernelspec": {
   "display_name": "venv",
   "language": "python",
   "name": "venv"
  },
  "language_info": {
   "codemirror_mode": {
    "name": "ipython",
    "version": 3
   },
   "file_extension": ".py",
   "mimetype": "text/x-python",
   "name": "python",
   "nbconvert_exporter": "python",
   "pygments_lexer": "ipython3",
   "version": "3.12.0"
  }
 },
 "nbformat": 4,
 "nbformat_minor": 5
}
